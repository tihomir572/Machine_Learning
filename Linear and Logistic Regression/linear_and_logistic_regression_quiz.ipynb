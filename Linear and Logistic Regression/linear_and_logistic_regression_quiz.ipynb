{
 "cells": [
  {
   "cell_type": "code",
   "execution_count": 1,
   "id": "72fd76eb-e832-4e64-b166-cfbf3b11f368",
   "metadata": {},
   "outputs": [],
   "source": [
    "import pandas as pd\n",
    "from sklearn.linear_model import LinearRegression\n",
    "from sklearn.preprocessing import PolynomialFeatures"
   ]
  },
  {
   "cell_type": "code",
   "execution_count": 2,
   "id": "143c9e1d-feff-449b-8d9e-9ceb5023d84e",
   "metadata": {},
   "outputs": [],
   "source": [
    "red_wine = pd.read_csv('winequality-red.csv',sep=\";\")"
   ]
  },
  {
   "cell_type": "code",
   "execution_count": 3,
   "id": "88971065-13bd-4786-9b74-733ec514fb26",
   "metadata": {},
   "outputs": [
    {
     "data": {
      "text/plain": [
       "(1599, 12)"
      ]
     },
     "execution_count": 3,
     "metadata": {},
     "output_type": "execute_result"
    }
   ],
   "source": [
    "red_wine.shape"
   ]
  },
  {
   "cell_type": "code",
   "execution_count": 9,
   "id": "aaed1eed-c20d-4b60-9b83-7365ecc410d0",
   "metadata": {},
   "outputs": [
    {
     "data": {
      "text/plain": [
       "12"
      ]
     },
     "execution_count": 9,
     "metadata": {},
     "output_type": "execute_result"
    }
   ],
   "source": [
    "red_wine.columns.__len__()"
   ]
  },
  {
   "cell_type": "code",
   "execution_count": 5,
   "id": "b33aa6aa-7dbf-41a0-aaac-79db4cc05474",
   "metadata": {},
   "outputs": [
    {
     "name": "stdout",
     "output_type": "stream",
     "text": [
      "21.97\n",
      "0.36\n"
     ]
    }
   ],
   "source": [
    "housing_model = LinearRegression()\n",
    "predictor_attributes = red_wine.drop(\"quality\", axis = 1)\n",
    "housing_model.fit(predictor_attributes, red_wine.quality)\n",
    "print(f\"{housing_model.intercept_:.2f}\")\n",
    "print(f\"{housing_model.score(predictor_attributes, red_wine.quality):.2f}\")"
   ]
  },
  {
   "cell_type": "code",
   "execution_count": 6,
   "id": "db9857c9-a31c-4962-91f8-951f41bb447c",
   "metadata": {},
   "outputs": [],
   "source": [
    "quad_feature_transformer = PolynomialFeatures(degree = 2)\n",
    "bank_features_quad = quad_feature_transformer.fit_transform(predictor_attributes)"
   ]
  },
  {
   "cell_type": "code",
   "execution_count": 14,
   "id": "0e63cd2a-a912-480c-b5c8-0451d66fc744",
   "metadata": {},
   "outputs": [
    {
     "data": {
      "text/plain": [
       "78"
      ]
     },
     "execution_count": 14,
     "metadata": {},
     "output_type": "execute_result"
    }
   ],
   "source": [
    "bank_features_quad.shape[1]"
   ]
  },
  {
   "cell_type": "code",
   "execution_count": 8,
   "id": "9eb9cf58-2ab9-41b8-b91f-02c878504134",
   "metadata": {},
   "outputs": [
    {
     "name": "stdout",
     "output_type": "stream",
     "text": [
      "0.43\n"
     ]
    }
   ],
   "source": [
    "housing_model.fit(bank_features_quad, red_wine.quality)\n",
    "print(f\"{housing_model.score(bank_features_quad, red_wine.quality):.2f}\")"
   ]
  }
 ],
 "metadata": {
  "kernelspec": {
   "display_name": "Python 3 (ipykernel)",
   "language": "python",
   "name": "python3"
  },
  "language_info": {
   "codemirror_mode": {
    "name": "ipython",
    "version": 3
   },
   "file_extension": ".py",
   "mimetype": "text/x-python",
   "name": "python",
   "nbconvert_exporter": "python",
   "pygments_lexer": "ipython3",
   "version": "3.10.5"
  }
 },
 "nbformat": 4,
 "nbformat_minor": 5
}
